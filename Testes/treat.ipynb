{
 "cells": [
  {
   "cell_type": "code",
   "execution_count": 3,
   "id": "82d605b4",
   "metadata": {},
   "outputs": [],
   "source": [
    "import pandas"
   ]
  },
  {
   "cell_type": "markdown",
   "id": "d6f914dc",
   "metadata": {},
   "source": [
    "# Kicker runtime test"
   ]
  },
  {
   "cell_type": "code",
   "execution_count": 4,
   "id": "9aae84cd",
   "metadata": {},
   "outputs": [],
   "source": [
    "ds = pandas.read_csv('kicker_runtime_split.csv', index_col=0, usecols=[0, 1])"
   ]
  },
  {
   "cell_type": "code",
   "execution_count": 5,
   "id": "e3b37ac2",
   "metadata": {},
   "outputs": [
    {
     "data": {
      "text/plain": [
       "np.float64(0.4312237631154254)"
      ]
     },
     "execution_count": 5,
     "metadata": {},
     "output_type": "execute_result"
    }
   ],
   "source": [
    "ds['Period (ms)'].mean()"
   ]
  },
  {
   "cell_type": "code",
   "execution_count": 6,
   "id": "c2257aa2",
   "metadata": {},
   "outputs": [
    {
     "data": {
      "text/plain": [
       "Period (ms)\n",
       "0.0      361534\n",
       "1.0      259749\n",
       "8.0         144\n",
       "108.0        65\n",
       "10.0          7\n",
       "4.0           1\n",
       "11.0          1\n",
       "Name: count, dtype: int64"
      ]
     },
     "execution_count": 6,
     "metadata": {},
     "output_type": "execute_result"
    }
   ],
   "source": [
    "ds['Period (ms)'].value_counts()"
   ]
  },
  {
   "cell_type": "code",
   "execution_count": 8,
   "id": "ddc9204d",
   "metadata": {},
   "outputs": [
    {
     "data": {
      "text/plain": [
       "np.float64(1.2116300491211025)"
      ]
     },
     "execution_count": 8,
     "metadata": {},
     "output_type": "execute_result"
    }
   ],
   "source": [
    "ds['Period (ms)'].std()"
   ]
  },
  {
   "cell_type": "markdown",
   "id": "2f25aa66",
   "metadata": {},
   "source": [
    "# Radio runtime test"
   ]
  },
  {
   "cell_type": "code",
   "execution_count": 9,
   "id": "934fe317",
   "metadata": {},
   "outputs": [],
   "source": [
    "ds = pandas.read_csv('radio_runtime_split.csv', index_col=0, usecols=[0, 1])"
   ]
  },
  {
   "cell_type": "code",
   "execution_count": 10,
   "id": "ae622a19",
   "metadata": {},
   "outputs": [
    {
     "data": {
      "text/plain": [
       "np.float64(0.5892679974950217)"
      ]
     },
     "execution_count": 10,
     "metadata": {},
     "output_type": "execute_result"
    }
   ],
   "source": [
    "ds['Period (ms)'].mean()"
   ]
  },
  {
   "cell_type": "code",
   "execution_count": 11,
   "id": "ae0c871d",
   "metadata": {},
   "outputs": [
    {
     "data": {
      "text/plain": [
       "np.float64(1.652985451940019)"
      ]
     },
     "execution_count": 11,
     "metadata": {},
     "output_type": "execute_result"
    }
   ],
   "source": [
    "ds['Period (ms)'].std()"
   ]
  },
  {
   "cell_type": "code",
   "execution_count": 12,
   "id": "cc1ff2f2",
   "metadata": {},
   "outputs": [
    {
     "data": {
      "text/plain": [
       "Period (ms)\n",
       "1.0      319477\n",
       "0.0      248602\n",
       "10.0        260\n",
       "110.0       116\n",
       "11.0         13\n",
       "Name: count, dtype: int64"
      ]
     },
     "execution_count": 12,
     "metadata": {},
     "output_type": "execute_result"
    }
   ],
   "source": [
    "ds['Period (ms)'].value_counts()"
   ]
  },
  {
   "cell_type": "markdown",
   "id": "373f9ea9",
   "metadata": {},
   "source": [
    "# Radio consistency test"
   ]
  },
  {
   "cell_type": "code",
   "execution_count": 44,
   "id": "d05b42e6",
   "metadata": {},
   "outputs": [
    {
     "data": {
      "text/html": [
       "<div>\n",
       "<style scoped>\n",
       "    .dataframe tbody tr th:only-of-type {\n",
       "        vertical-align: middle;\n",
       "    }\n",
       "\n",
       "    .dataframe tbody tr th {\n",
       "        vertical-align: top;\n",
       "    }\n",
       "\n",
       "    .dataframe thead th {\n",
       "        text-align: right;\n",
       "    }\n",
       "</style>\n",
       "<table border=\"1\" class=\"dataframe\">\n",
       "  <thead>\n",
       "    <tr style=\"text-align: right;\">\n",
       "      <th></th>\n",
       "      <th>Coluna_2</th>\n",
       "      <th>Coluna_3</th>\n",
       "      <th>Coluna_4</th>\n",
       "      <th>Coluna_5</th>\n",
       "    </tr>\n",
       "    <tr>\n",
       "      <th>Coluna_1</th>\n",
       "      <th></th>\n",
       "      <th></th>\n",
       "      <th></th>\n",
       "      <th></th>\n",
       "    </tr>\n",
       "  </thead>\n",
       "  <tbody>\n",
       "    <tr>\n",
       "      <th>09:29:45:320</th>\n",
       "      <td>1.01</td>\n",
       "      <td>1.01</td>\n",
       "      <td>1.01</td>\n",
       "      <td>10.0</td>\n",
       "    </tr>\n",
       "    <tr>\n",
       "      <th>09:29:45:320</th>\n",
       "      <td>1.01</td>\n",
       "      <td>1.01</td>\n",
       "      <td>1.01</td>\n",
       "      <td>10.0</td>\n",
       "    </tr>\n",
       "    <tr>\n",
       "      <th>09:29:45:325</th>\n",
       "      <td>1.01</td>\n",
       "      <td>1.01</td>\n",
       "      <td>1.01</td>\n",
       "      <td>10.0</td>\n",
       "    </tr>\n",
       "    <tr>\n",
       "      <th>09:29:45:325</th>\n",
       "      <td>1.01</td>\n",
       "      <td>1.01</td>\n",
       "      <td>1.01</td>\n",
       "      <td>10.0</td>\n",
       "    </tr>\n",
       "    <tr>\n",
       "      <th>09:29:45:331</th>\n",
       "      <td>1.01</td>\n",
       "      <td>1.01</td>\n",
       "      <td>1.01</td>\n",
       "      <td>10.0</td>\n",
       "    </tr>\n",
       "    <tr>\n",
       "      <th>...</th>\n",
       "      <td>...</td>\n",
       "      <td>...</td>\n",
       "      <td>...</td>\n",
       "      <td>...</td>\n",
       "    </tr>\n",
       "    <tr>\n",
       "      <th>09:35:56:063</th>\n",
       "      <td>1.01</td>\n",
       "      <td>1.01</td>\n",
       "      <td>1.01</td>\n",
       "      <td>10.0</td>\n",
       "    </tr>\n",
       "    <tr>\n",
       "      <th>09:35:56:063</th>\n",
       "      <td>1.01</td>\n",
       "      <td>1.01</td>\n",
       "      <td>1.01</td>\n",
       "      <td>10.0</td>\n",
       "    </tr>\n",
       "    <tr>\n",
       "      <th>09:35:56:063</th>\n",
       "      <td>1.01</td>\n",
       "      <td>1.01</td>\n",
       "      <td>1.01</td>\n",
       "      <td>10.0</td>\n",
       "    </tr>\n",
       "    <tr>\n",
       "      <th>09:35:56:063</th>\n",
       "      <td>1.01</td>\n",
       "      <td>1.01</td>\n",
       "      <td>1.01</td>\n",
       "      <td>10.0</td>\n",
       "    </tr>\n",
       "    <tr>\n",
       "      <th>09:35:56:063</th>\n",
       "      <td>1.01</td>\n",
       "      <td>1.01</td>\n",
       "      <td>1.01</td>\n",
       "      <td>10.0</td>\n",
       "    </tr>\n",
       "  </tbody>\n",
       "</table>\n",
       "<p>150000 rows × 4 columns</p>\n",
       "</div>"
      ],
      "text/plain": [
       "              Coluna_2  Coluna_3  Coluna_4  Coluna_5\n",
       "Coluna_1                                            \n",
       "09:29:45:320      1.01      1.01      1.01      10.0\n",
       "09:29:45:320      1.01      1.01      1.01      10.0\n",
       "09:29:45:325      1.01      1.01      1.01      10.0\n",
       "09:29:45:325      1.01      1.01      1.01      10.0\n",
       "09:29:45:331      1.01      1.01      1.01      10.0\n",
       "...                ...       ...       ...       ...\n",
       "09:35:56:063      1.01      1.01      1.01      10.0\n",
       "09:35:56:063      1.01      1.01      1.01      10.0\n",
       "09:35:56:063      1.01      1.01      1.01      10.0\n",
       "09:35:56:063      1.01      1.01      1.01      10.0\n",
       "09:35:56:063      1.01      1.01      1.01      10.0\n",
       "\n",
       "[150000 rows x 4 columns]"
      ]
     },
     "execution_count": 44,
     "metadata": {},
     "output_type": "execute_result"
    }
   ],
   "source": [
    "ds = pandas.read_csv('radio_split.csv', index_col=0, usecols=[0, 1, 2, 3, 4], nrows=150000)\n",
    "ds"
   ]
  },
  {
   "cell_type": "code",
   "execution_count": 45,
   "id": "64e0a6d1",
   "metadata": {},
   "outputs": [
    {
     "data": {
      "text/plain": [
       "Coluna_2\n",
       "1.0100      148836\n",
       "1.0000         648\n",
       "0.0000         185\n",
       "10.0000         53\n",
       "1.0110          51\n",
       "1.1000          42\n",
       "0.0100          37\n",
       "101.0000        32\n",
       "11.0000         24\n",
       "10.1000         20\n",
       "0.1010          20\n",
       "0.0110          12\n",
       "11.0100         11\n",
       "1.1010           6\n",
       "1.0010           6\n",
       "0.1000           5\n",
       "101.0100         2\n",
       "10.0100          2\n",
       "9.0000           2\n",
       "0.1100           2\n",
       "109.0000         1\n",
       "0.1101           1\n",
       "110.0000         1\n",
       "1.0101           1\n",
       "Name: count, dtype: int64"
      ]
     },
     "execution_count": 45,
     "metadata": {},
     "output_type": "execute_result"
    }
   ],
   "source": [
    "count = ds['Coluna_2'].value_counts()\n",
    "count"
   ]
  },
  {
   "cell_type": "code",
   "execution_count": 46,
   "id": "ba21858a",
   "metadata": {},
   "outputs": [
    {
     "data": {
      "text/plain": [
       "np.int64(1164)"
      ]
     },
     "execution_count": 46,
     "metadata": {},
     "output_type": "execute_result"
    }
   ],
   "source": [
    "total = count[count.index != 1.01].sum()\n",
    "total"
   ]
  },
  {
   "cell_type": "code",
   "execution_count": 47,
   "id": "2b8d7e92",
   "metadata": {},
   "outputs": [
    {
     "data": {
      "text/plain": [
       "np.float64(0.776)"
      ]
     },
     "execution_count": 47,
     "metadata": {},
     "output_type": "execute_result"
    }
   ],
   "source": [
    "(total/150000)*100"
   ]
  },
  {
   "cell_type": "code",
   "execution_count": 54,
   "id": "8923c26a",
   "metadata": {},
   "outputs": [
    {
     "data": {
      "text/plain": [
       "np.float64(1.432)"
      ]
     },
     "execution_count": 54,
     "metadata": {},
     "output_type": "execute_result"
    }
   ],
   "source": [
    "count = ds['Coluna_5'].value_counts()\n",
    "total = count[count.index != 10.00].sum()\n",
    "(total/150000)*100"
   ]
  },
  {
   "cell_type": "code",
   "execution_count": 55,
   "id": "c868d5ef",
   "metadata": {},
   "outputs": [
    {
     "data": {
      "text/plain": [
       "3133"
      ]
     },
     "execution_count": 55,
     "metadata": {},
     "output_type": "execute_result"
    }
   ],
   "source": [
    "mask = ~((ds['Coluna_2'] == 1.01) & \n",
    "         (ds['Coluna_3'] == 1.01) & \n",
    "         (ds['Coluna_4'] == 1.01) & \n",
    "         (ds['Coluna_5'] == 10.00))\n",
    "count = ds[mask].shape[0]\n",
    "count"
   ]
  },
  {
   "cell_type": "code",
   "execution_count": 56,
   "id": "b31fe263",
   "metadata": {},
   "outputs": [
    {
     "data": {
      "text/plain": [
       "2.0886666666666667"
      ]
     },
     "execution_count": 56,
     "metadata": {},
     "output_type": "execute_result"
    }
   ],
   "source": [
    "(count/150000)*100"
   ]
  },
  {
   "cell_type": "markdown",
   "id": "8a1e8192",
   "metadata": {},
   "source": [
    "# Serial consistency test\n",
    "\n",
    "For this one the copy worked best but i kept the original for the timestamps\n",
    "\n",
    "I created a local repo on git and did commits to get stats on the changes, the following image is the result of this\n",
    "\n",
    "![commit diff](diff.png)\n",
    "\n",
    "And then I did it again\n",
    "\n",
    "![commit diff](diff2.png)"
   ]
  },
  {
   "cell_type": "code",
   "execution_count": 33,
   "id": "81560619",
   "metadata": {},
   "outputs": [
    {
     "data": {
      "text/plain": [
       "np.int64(548196)"
      ]
     },
     "execution_count": 33,
     "metadata": {},
     "output_type": "execute_result"
    }
   ],
   "source": [
    "receiver = pandas.read_csv('receiver_sync_split copy.csv', index_col=0, usecols=[0, 1, 2, 3])\n",
    "lines = receiver['Coluna_2'].count()\n",
    "lines"
   ]
  },
  {
   "cell_type": "code",
   "execution_count": 35,
   "id": "3d15828e",
   "metadata": {},
   "outputs": [
    {
     "data": {
      "text/plain": [
       "np.float64(4.516085487672292)"
      ]
     },
     "execution_count": 35,
     "metadata": {},
     "output_type": "execute_result"
    }
   ],
   "source": [
    "(24757/lines)*100"
   ]
  },
  {
   "cell_type": "code",
   "execution_count": 41,
   "id": "4a5ee61f",
   "metadata": {},
   "outputs": [
    {
     "data": {
      "text/plain": [
       "np.int64(586786)"
      ]
     },
     "execution_count": 41,
     "metadata": {},
     "output_type": "execute_result"
    }
   ],
   "source": [
    "receiver = pandas.read_csv('sender_sync_split(1) (copy).csv', index_col=0, usecols=[0, 1, 2, 3])\n",
    "lines = receiver['Coluna_2'].count()\n",
    "lines"
   ]
  },
  {
   "cell_type": "code",
   "execution_count": 43,
   "id": "251ea75d",
   "metadata": {},
   "outputs": [
    {
     "data": {
      "text/plain": [
       "np.float64(8.948407085376951)"
      ]
     },
     "execution_count": 43,
     "metadata": {},
     "output_type": "execute_result"
    }
   ],
   "source": [
    "(52508/lines)*100"
   ]
  },
  {
   "cell_type": "code",
   "execution_count": null,
   "id": "3bca4b16",
   "metadata": {},
   "outputs": [],
   "source": []
  }
 ],
 "metadata": {
  "kernelspec": {
   "display_name": "Python 3",
   "language": "python",
   "name": "python3"
  },
  "language_info": {
   "codemirror_mode": {
    "name": "ipython",
    "version": 3
   },
   "file_extension": ".py",
   "mimetype": "text/x-python",
   "name": "python",
   "nbconvert_exporter": "python",
   "pygments_lexer": "ipython3",
   "version": "3.10.12"
  }
 },
 "nbformat": 4,
 "nbformat_minor": 5
}
