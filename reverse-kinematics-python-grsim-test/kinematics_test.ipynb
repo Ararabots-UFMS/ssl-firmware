{
 "cells": [
  {
   "cell_type": "code",
   "execution_count": 1,
   "metadata": {},
   "outputs": [],
   "source": [
    "import simulation_commander as simc\n",
    "import grSim_Commands_pb2\n",
    "import grSim_Packet_pb2\n",
    "import time\n",
    "import numpy as np\n",
    "import math\n",
    "\n",
    "client = simc.Client(ip='127.0.0.1', port=20011)"
   ]
  },
  {
   "cell_type": "code",
   "execution_count": 2,
   "metadata": {},
   "outputs": [],
   "source": [
    "def prep_message_and_send(yellowTeam, id, kickspeedx, kickspeedz, veltangent, velnormal, velangular, spinner, wheelsspeed, wheel1, wheel2, wheel3, wheel4):\n",
    "    packet = grSim_Packet_pb2.grSim_Packet()\n",
    "    packet.commands.isteamyellow = yellowTeam\n",
    "    packet.commands.timestamp = 0\n",
    "    robot_command = grSim_Commands_pb2.grSim_Robot_Command()\n",
    "    robot_command.id = id\n",
    "    robot_command.kickspeedx = kickspeedx\n",
    "    robot_command.kickspeedz = kickspeedz\n",
    "    robot_command.veltangent = veltangent\n",
    "    robot_command.velnormal = velnormal\n",
    "    robot_command.velangular = velangular\n",
    "    robot_command.spinner = spinner\n",
    "    robot_command.wheelsspeed = wheelsspeed\n",
    "    robot_command.wheel1 = wheel1   # front left\n",
    "    robot_command.wheel2 = wheel2   # back left\n",
    "    robot_command.wheel3 = wheel3   # back right\n",
    "    robot_command.wheel4 = wheel4   # front right\n",
    "    packet.commands.robot_commands.append(robot_command)\n",
    "    \n",
    "    while True:\n",
    "        client.send(packet)\n",
    "        time.sleep(0.01)"
   ]
  },
  {
   "cell_type": "code",
   "execution_count": 3,
   "metadata": {},
   "outputs": [],
   "source": [
    "\n",
    "\n",
    "R = 1\n",
    "\n",
    "######## Angulos das rodas em relação ao eixo x\n",
    "######## 0 -> 30 graus front right\n",
    "######## 1 -> 150 graus front left\n",
    "######## 2 -> 225 graus back left\n",
    "######## 3 -> 315 graus back right\n",
    "wheel_alngles = [math.pi/6, (math.pi*5)/6, (math.pi*5)/4, (math.pi*7)/4]\n",
    "\n",
    "######## Matriz Jacobiana\n",
    "jacobian = np.matrix([[math.sin(wheel_alngles[0]), math.cos(wheel_alngles[0]), R],\n",
    "                      [math.sin(wheel_alngles[1]), math.cos(wheel_alngles[1]), R],\n",
    "                      [math.sin(wheel_alngles[2]), math.cos(wheel_alngles[2]), R],\n",
    "                      [math.sin(wheel_alngles[3]), math.cos(wheel_alngles[3]), R],])\n",
    "\n",
    "######## Eixo x, eixo y, rotação\n",
    "velocities = np.matrix([[-1], [1], [0]])"
   ]
  },
  {
   "cell_type": "code",
   "execution_count": 4,
   "metadata": {},
   "outputs": [
    {
     "data": {
      "text/plain": [
       "[0.36602540378443876,\n",
       " -1.3660254037844386,\n",
       " -2.220446049250313e-16,\n",
       " 1.414213562373095]"
      ]
     },
     "execution_count": 4,
     "metadata": {},
     "output_type": "execute_result"
    }
   ],
   "source": [
    "wheels_acc = (1/R*jacobian*velocities).T.tolist()[0]\n",
    "wheels_acc"
   ]
  },
  {
   "cell_type": "code",
   "execution_count": 5,
   "metadata": {},
   "outputs": [],
   "source": [
    "import grSim_Replacement_pb2\n",
    "\n",
    "packet = grSim_Packet_pb2.grSim_Packet()\n",
    "robot_replacement = grSim_Replacement_pb2.grSim_RobotReplacement()\n",
    "robot_replacement.x = 0\n",
    "robot_replacement.y = 4.5\n",
    "robot_replacement.dir = 270\n",
    "robot_replacement.id = 0\n",
    "robot_replacement.yellowteam = 1\n",
    "packet.replacement.robots.append(robot_replacement)\n",
    "\n",
    "\n",
    "client.send(packet)\n",
    "time.sleep(0.01)"
   ]
  },
  {
   "cell_type": "code",
   "execution_count": 6,
   "metadata": {},
   "outputs": [],
   "source": [
    "prep_message_and_send(True, 0, 0, 0, 0, 0, 0, 0, 1, wheels_acc[1], wheels_acc[2], wheels_acc[3], wheels_acc[0])"
   ]
  }
 ],
 "metadata": {
  "kernelspec": {
   "display_name": "Python 3",
   "language": "python",
   "name": "python3"
  },
  "language_info": {
   "codemirror_mode": {
    "name": "ipython",
    "version": 3
   },
   "file_extension": ".py",
   "mimetype": "text/x-python",
   "name": "python",
   "nbconvert_exporter": "python",
   "pygments_lexer": "ipython3",
   "version": "3.10.12"
  }
 },
 "nbformat": 4,
 "nbformat_minor": 2
}
